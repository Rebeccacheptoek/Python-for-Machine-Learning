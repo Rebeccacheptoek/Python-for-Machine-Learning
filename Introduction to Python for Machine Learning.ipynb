{
 "cells": [
  {
   "cell_type": "code",
   "execution_count": 1,
   "id": "c8a8042d-bbc9-4dbf-8a0a-cc669fe8854b",
   "metadata": {},
   "outputs": [],
   "source": [
    "import pandas as pd\n",
    "import numpy as np"
   ]
  },
  {
   "cell_type": "code",
   "execution_count": 2,
   "id": "16493973-9993-45f6-be62-011e49e4b9fc",
   "metadata": {},
   "outputs": [],
   "source": [
    "url = 'https://github.com/HamoyeHQ/HDSC-Introduction-to-Python-for-machine-learning/files/7768140/FoodBalanceSheets_E_Africa_NOFLAG.csv'\n",
    "data = pd.read_csv(url, encoding='latin-1')"
   ]
  },
  {
   "cell_type": "code",
   "execution_count": 3,
   "id": "9d4a78ca-0b7b-499a-9b2b-841b6bb10fcf",
   "metadata": {},
   "outputs": [
    {
     "data": {
      "text/html": [
       "<div>\n",
       "<style scoped>\n",
       "    .dataframe tbody tr th:only-of-type {\n",
       "        vertical-align: middle;\n",
       "    }\n",
       "\n",
       "    .dataframe tbody tr th {\n",
       "        vertical-align: top;\n",
       "    }\n",
       "\n",
       "    .dataframe thead th {\n",
       "        text-align: right;\n",
       "    }\n",
       "</style>\n",
       "<table border=\"1\" class=\"dataframe\">\n",
       "  <thead>\n",
       "    <tr style=\"text-align: right;\">\n",
       "      <th></th>\n",
       "      <th>Area Code</th>\n",
       "      <th>Area</th>\n",
       "      <th>Item Code</th>\n",
       "      <th>Item</th>\n",
       "      <th>Element Code</th>\n",
       "      <th>Element</th>\n",
       "      <th>Unit</th>\n",
       "      <th>Y2014</th>\n",
       "      <th>Y2015</th>\n",
       "      <th>Y2016</th>\n",
       "      <th>Y2017</th>\n",
       "      <th>Y2018</th>\n",
       "    </tr>\n",
       "  </thead>\n",
       "  <tbody>\n",
       "    <tr>\n",
       "      <th>0</th>\n",
       "      <td>4</td>\n",
       "      <td>Algeria</td>\n",
       "      <td>2501</td>\n",
       "      <td>Population</td>\n",
       "      <td>511</td>\n",
       "      <td>Total Population - Both sexes</td>\n",
       "      <td>1000 persons</td>\n",
       "      <td>38924.00</td>\n",
       "      <td>39728.00</td>\n",
       "      <td>40551.00</td>\n",
       "      <td>41389.00</td>\n",
       "      <td>42228.00</td>\n",
       "    </tr>\n",
       "    <tr>\n",
       "      <th>1</th>\n",
       "      <td>4</td>\n",
       "      <td>Algeria</td>\n",
       "      <td>2501</td>\n",
       "      <td>Population</td>\n",
       "      <td>5301</td>\n",
       "      <td>Domestic supply quantity</td>\n",
       "      <td>1000 tonnes</td>\n",
       "      <td>0.00</td>\n",
       "      <td>0.00</td>\n",
       "      <td>0.00</td>\n",
       "      <td>0.00</td>\n",
       "      <td>0.00</td>\n",
       "    </tr>\n",
       "    <tr>\n",
       "      <th>2</th>\n",
       "      <td>4</td>\n",
       "      <td>Algeria</td>\n",
       "      <td>2901</td>\n",
       "      <td>Grand Total</td>\n",
       "      <td>664</td>\n",
       "      <td>Food supply (kcal/capita/day)</td>\n",
       "      <td>kcal/capita/day</td>\n",
       "      <td>3377.00</td>\n",
       "      <td>3379.00</td>\n",
       "      <td>3372.00</td>\n",
       "      <td>3341.00</td>\n",
       "      <td>3322.00</td>\n",
       "    </tr>\n",
       "    <tr>\n",
       "      <th>3</th>\n",
       "      <td>4</td>\n",
       "      <td>Algeria</td>\n",
       "      <td>2901</td>\n",
       "      <td>Grand Total</td>\n",
       "      <td>674</td>\n",
       "      <td>Protein supply quantity (g/capita/day)</td>\n",
       "      <td>g/capita/day</td>\n",
       "      <td>94.90</td>\n",
       "      <td>94.35</td>\n",
       "      <td>94.72</td>\n",
       "      <td>92.82</td>\n",
       "      <td>91.83</td>\n",
       "    </tr>\n",
       "    <tr>\n",
       "      <th>4</th>\n",
       "      <td>4</td>\n",
       "      <td>Algeria</td>\n",
       "      <td>2901</td>\n",
       "      <td>Grand Total</td>\n",
       "      <td>684</td>\n",
       "      <td>Fat supply quantity (g/capita/day)</td>\n",
       "      <td>g/capita/day</td>\n",
       "      <td>80.06</td>\n",
       "      <td>79.36</td>\n",
       "      <td>77.40</td>\n",
       "      <td>80.19</td>\n",
       "      <td>77.28</td>\n",
       "    </tr>\n",
       "    <tr>\n",
       "      <th>...</th>\n",
       "      <td>...</td>\n",
       "      <td>...</td>\n",
       "      <td>...</td>\n",
       "      <td>...</td>\n",
       "      <td>...</td>\n",
       "      <td>...</td>\n",
       "      <td>...</td>\n",
       "      <td>...</td>\n",
       "      <td>...</td>\n",
       "      <td>...</td>\n",
       "      <td>...</td>\n",
       "      <td>...</td>\n",
       "    </tr>\n",
       "    <tr>\n",
       "      <th>60938</th>\n",
       "      <td>181</td>\n",
       "      <td>Zimbabwe</td>\n",
       "      <td>2899</td>\n",
       "      <td>Miscellaneous</td>\n",
       "      <td>5142</td>\n",
       "      <td>Food</td>\n",
       "      <td>1000 tonnes</td>\n",
       "      <td>42.00</td>\n",
       "      <td>46.00</td>\n",
       "      <td>33.00</td>\n",
       "      <td>19.00</td>\n",
       "      <td>16.00</td>\n",
       "    </tr>\n",
       "    <tr>\n",
       "      <th>60939</th>\n",
       "      <td>181</td>\n",
       "      <td>Zimbabwe</td>\n",
       "      <td>2899</td>\n",
       "      <td>Miscellaneous</td>\n",
       "      <td>645</td>\n",
       "      <td>Food supply quantity (kg/capita/yr)</td>\n",
       "      <td>kg</td>\n",
       "      <td>3.06</td>\n",
       "      <td>3.33</td>\n",
       "      <td>2.35</td>\n",
       "      <td>1.33</td>\n",
       "      <td>1.08</td>\n",
       "    </tr>\n",
       "    <tr>\n",
       "      <th>60940</th>\n",
       "      <td>181</td>\n",
       "      <td>Zimbabwe</td>\n",
       "      <td>2899</td>\n",
       "      <td>Miscellaneous</td>\n",
       "      <td>664</td>\n",
       "      <td>Food supply (kcal/capita/day)</td>\n",
       "      <td>kcal/capita/day</td>\n",
       "      <td>3.00</td>\n",
       "      <td>4.00</td>\n",
       "      <td>3.00</td>\n",
       "      <td>1.00</td>\n",
       "      <td>1.00</td>\n",
       "    </tr>\n",
       "    <tr>\n",
       "      <th>60941</th>\n",
       "      <td>181</td>\n",
       "      <td>Zimbabwe</td>\n",
       "      <td>2899</td>\n",
       "      <td>Miscellaneous</td>\n",
       "      <td>674</td>\n",
       "      <td>Protein supply quantity (g/capita/day)</td>\n",
       "      <td>g/capita/day</td>\n",
       "      <td>0.10</td>\n",
       "      <td>0.11</td>\n",
       "      <td>0.08</td>\n",
       "      <td>0.04</td>\n",
       "      <td>0.04</td>\n",
       "    </tr>\n",
       "    <tr>\n",
       "      <th>60942</th>\n",
       "      <td>181</td>\n",
       "      <td>Zimbabwe</td>\n",
       "      <td>2899</td>\n",
       "      <td>Miscellaneous</td>\n",
       "      <td>684</td>\n",
       "      <td>Fat supply quantity (g/capita/day)</td>\n",
       "      <td>g/capita/day</td>\n",
       "      <td>0.04</td>\n",
       "      <td>0.05</td>\n",
       "      <td>0.03</td>\n",
       "      <td>0.02</td>\n",
       "      <td>0.01</td>\n",
       "    </tr>\n",
       "  </tbody>\n",
       "</table>\n",
       "<p>60943 rows × 12 columns</p>\n",
       "</div>"
      ],
      "text/plain": [
       "       Area Code      Area  Item Code           Item  Element Code  \\\n",
       "0              4   Algeria       2501     Population           511   \n",
       "1              4   Algeria       2501     Population          5301   \n",
       "2              4   Algeria       2901    Grand Total           664   \n",
       "3              4   Algeria       2901    Grand Total           674   \n",
       "4              4   Algeria       2901    Grand Total           684   \n",
       "...          ...       ...        ...            ...           ...   \n",
       "60938        181  Zimbabwe       2899  Miscellaneous          5142   \n",
       "60939        181  Zimbabwe       2899  Miscellaneous           645   \n",
       "60940        181  Zimbabwe       2899  Miscellaneous           664   \n",
       "60941        181  Zimbabwe       2899  Miscellaneous           674   \n",
       "60942        181  Zimbabwe       2899  Miscellaneous           684   \n",
       "\n",
       "                                      Element             Unit     Y2014  \\\n",
       "0               Total Population - Both sexes     1000 persons  38924.00   \n",
       "1                    Domestic supply quantity      1000 tonnes      0.00   \n",
       "2               Food supply (kcal/capita/day)  kcal/capita/day   3377.00   \n",
       "3      Protein supply quantity (g/capita/day)     g/capita/day     94.90   \n",
       "4          Fat supply quantity (g/capita/day)     g/capita/day     80.06   \n",
       "...                                       ...              ...       ...   \n",
       "60938                                    Food      1000 tonnes     42.00   \n",
       "60939     Food supply quantity (kg/capita/yr)               kg      3.06   \n",
       "60940           Food supply (kcal/capita/day)  kcal/capita/day      3.00   \n",
       "60941  Protein supply quantity (g/capita/day)     g/capita/day      0.10   \n",
       "60942      Fat supply quantity (g/capita/day)     g/capita/day      0.04   \n",
       "\n",
       "          Y2015     Y2016     Y2017     Y2018  \n",
       "0      39728.00  40551.00  41389.00  42228.00  \n",
       "1          0.00      0.00      0.00      0.00  \n",
       "2       3379.00   3372.00   3341.00   3322.00  \n",
       "3         94.35     94.72     92.82     91.83  \n",
       "4         79.36     77.40     80.19     77.28  \n",
       "...         ...       ...       ...       ...  \n",
       "60938     46.00     33.00     19.00     16.00  \n",
       "60939      3.33      2.35      1.33      1.08  \n",
       "60940      4.00      3.00      1.00      1.00  \n",
       "60941      0.11      0.08      0.04      0.04  \n",
       "60942      0.05      0.03      0.02      0.01  \n",
       "\n",
       "[60943 rows x 12 columns]"
      ]
     },
     "execution_count": 3,
     "metadata": {},
     "output_type": "execute_result"
    }
   ],
   "source": [
    "data"
   ]
  },
  {
   "cell_type": "code",
   "execution_count": 4,
   "id": "51ec1df5-85d0-49e3-8f2a-22ec691f8d26",
   "metadata": {},
   "outputs": [
    {
     "data": {
      "text/plain": [
       "Area Code          0\n",
       "Area               0\n",
       "Item Code          0\n",
       "Item               0\n",
       "Element Code       0\n",
       "Element            0\n",
       "Unit               0\n",
       "Y2014           1589\n",
       "Y2015           1548\n",
       "Y2016           1535\n",
       "Y2017           1506\n",
       "Y2018           1436\n",
       "dtype: int64"
      ]
     },
     "execution_count": 4,
     "metadata": {},
     "output_type": "execute_result"
    }
   ],
   "source": [
    "data.isnull().sum()"
   ]
  },
  {
   "cell_type": "markdown",
   "id": "e211e4fc-b365-4a74-8017-e59bcea6857c",
   "metadata": {},
   "source": [
    "#### 1. Perform a groupby operation on ‘Element’.  What year has the highest sum of Stock Variation?"
   ]
  },
  {
   "cell_type": "markdown",
   "id": "53e8c4ab-80b8-4050-a314-bcc927274f6f",
   "metadata": {},
   "source": [
    "data.groupby([data['Element']=='Stock Variation']).sum()"
   ]
  },
  {
   "cell_type": "markdown",
   "id": "16eb6a34-ef5a-4a75-bf5d-8952e5ef5798",
   "metadata": {},
   "source": [
    "#### 2. What is the total Protein supply quantity in Madagascar in 2015?"
   ]
  },
  {
   "cell_type": "code",
   "execution_count": 5,
   "id": "28593099-b9e2-4e4a-ac7f-7dca95a51c38",
   "metadata": {},
   "outputs": [
    {
     "data": {
      "text/plain": [
       "173.04999999999998"
      ]
     },
     "execution_count": 5,
     "metadata": {},
     "output_type": "execute_result"
    }
   ],
   "source": [
    "data[(data['Area'] == 'Madagascar') & (data['Element'] == 'Protein supply quantity (g/capita/day)')]['Y2015'].sum()"
   ]
  },
  {
   "cell_type": "markdown",
   "id": "dfebd91a-ed4f-4ef1-aae1-6557696b99a6",
   "metadata": {},
   "source": [
    "#### 3. How would you check for the number of rows and columns in a pandas DataFrame named df?"
   ]
  },
  {
   "cell_type": "code",
   "execution_count": 6,
   "id": "fb3cbd3a-f6d9-45fd-9853-ee79a2e3b445",
   "metadata": {},
   "outputs": [
    {
     "data": {
      "text/plain": [
       "(60943, 12)"
      ]
     },
     "execution_count": 6,
     "metadata": {},
     "output_type": "execute_result"
    }
   ],
   "source": [
    "data.shape"
   ]
  },
  {
   "cell_type": "markdown",
   "id": "4b01a2b7-72f5-49b5-9f99-c66fd619216d",
   "metadata": {},
   "source": [
    "#### 4. Perform a groupby operation on ‘Element’.  What is the total number of the sum of Processing in 2017?"
   ]
  },
  {
   "cell_type": "code",
   "execution_count": 7,
   "id": "b3f0eff4-a282-42f5-9a40-b61f207a2939",
   "metadata": {},
   "outputs": [
    {
     "data": {
      "text/plain": [
       "Element\n",
       "Processing    292836.0\n",
       "Name: Y2017, dtype: float64"
      ]
     },
     "execution_count": 7,
     "metadata": {},
     "output_type": "execute_result"
    }
   ],
   "source": [
    "data[data['Element'] == 'Processing'].groupby('Element')['Y2017'].sum()"
   ]
  },
  {
   "cell_type": "markdown",
   "id": "45e3d3d2-37ed-4570-843a-11f7ee55757f",
   "metadata": {},
   "source": [
    "#### 5. What is the total number and percentage of missing data in 2014 to 3 decimal places?"
   ]
  },
  {
   "cell_type": "code",
   "execution_count": 8,
   "id": "3aac60f8-cee5-41b5-9bab-3c0213041302",
   "metadata": {},
   "outputs": [
    {
     "name": "stdout",
     "output_type": "stream",
     "text": [
      "Total missing values in Y2014: 1589\n",
      "Percentage of missing values in Y2014: 2.607%\n"
     ]
    }
   ],
   "source": [
    "missing_count = data['Y2014'].isnull().sum()\n",
    "\n",
    "total_count = len(data)\n",
    "percentage_missing = (missing_count / total_count) * 100\n",
    "\n",
    "# Round the percentage to 3 decimal places\n",
    "percentage_missing = round(percentage_missing, 3)\n",
    "\n",
    "print(f\"Total missing values in Y2014: {missing_count}\")\n",
    "print(f\"Percentage of missing values in Y2014: {percentage_missing}%\")"
   ]
  },
  {
   "cell_type": "markdown",
   "id": "e78f5b84-435a-460b-a158-5c6798802888",
   "metadata": {},
   "source": [
    "#### 6. Select columns ‘Y2017’ and ‘Area’, Perform a groupby operation on ‘Area’.  Which of these Areas had the highest sum in 2017?"
   ]
  },
  {
   "cell_type": "code",
   "execution_count": 9,
   "id": "a1a738ad-327a-4137-93c5-22a7be7eb911",
   "metadata": {},
   "outputs": [
    {
     "name": "stdout",
     "output_type": "stream",
     "text": [
      "The Area with the highest sum in 2017 is: Nigeria\n"
     ]
    }
   ],
   "source": [
    "grouped = data[['Y2017', 'Area']].groupby('Area').sum()\n",
    "\n",
    "highest_sum_area = grouped.idxmax()['Y2017']\n",
    "\n",
    "print(f\"The Area with the highest sum in 2017 is: {highest_sum_area}\")"
   ]
  },
  {
   "cell_type": "markdown",
   "id": "5035c9a1-f42f-4c83-a130-60d8ef878634",
   "metadata": {},
   "source": [
    "#### 7. What is the total number of unique countries in the dataset?"
   ]
  },
  {
   "cell_type": "code",
   "execution_count": 10,
   "id": "b9d78af9-91c7-4094-88f1-cb7a8429bf41",
   "metadata": {},
   "outputs": [
    {
     "data": {
      "text/plain": [
       "49"
      ]
     },
     "execution_count": 10,
     "metadata": {},
     "output_type": "execute_result"
    }
   ],
   "source": [
    "data['Area'].nunique()"
   ]
  },
  {
   "cell_type": "markdown",
   "id": "0d882543-fae2-4165-aabc-82e15f2d7c4b",
   "metadata": {},
   "source": [
    "#### 8. Given the following python code, what would the output of the code give?\n",
    "my_tuppy = (1,2,5,8)\n",
    "\n",
    "my_tuppy[2] = 6\n"
   ]
  },
  {
   "cell_type": "code",
   "execution_count": 11,
   "id": "5ff46105-7ba4-4cdc-bb31-b052dc69271e",
   "metadata": {},
   "outputs": [
    {
     "ename": "TypeError",
     "evalue": "'tuple' object does not support item assignment",
     "output_type": "error",
     "traceback": [
      "\u001b[0;31m---------------------------------------------------------------------------\u001b[0m",
      "\u001b[0;31mTypeError\u001b[0m                                 Traceback (most recent call last)",
      "Cell \u001b[0;32mIn[11], line 3\u001b[0m\n\u001b[1;32m      1\u001b[0m my_tuppy \u001b[38;5;241m=\u001b[39m (\u001b[38;5;241m1\u001b[39m,\u001b[38;5;241m2\u001b[39m,\u001b[38;5;241m5\u001b[39m,\u001b[38;5;241m8\u001b[39m)\n\u001b[0;32m----> 3\u001b[0m \u001b[43mmy_tuppy\u001b[49m\u001b[43m[\u001b[49m\u001b[38;5;241;43m2\u001b[39;49m\u001b[43m]\u001b[49m \u001b[38;5;241m=\u001b[39m \u001b[38;5;241m6\u001b[39m\n",
      "\u001b[0;31mTypeError\u001b[0m: 'tuple' object does not support item assignment"
     ]
    }
   ],
   "source": [
    "my_tuppy = (1,2,5,8)\n",
    "\n",
    "my_tuppy[2] = 6"
   ]
  },
  {
   "cell_type": "markdown",
   "id": "cbf8321d-7804-47a4-924a-aeb0c338a46d",
   "metadata": {},
   "source": [
    "#### 9. What would be the output for?\n",
    "\n",
    "S = [['him', 'sell'], [90, 28, 43]]\n",
    "\n",
    "S[0][1][1]"
   ]
  },
  {
   "cell_type": "code",
   "execution_count": 12,
   "id": "cd0a7a65-3bea-4825-aeb5-f3f2f9714ecf",
   "metadata": {},
   "outputs": [
    {
     "data": {
      "text/plain": [
       "'e'"
      ]
     },
     "execution_count": 12,
     "metadata": {},
     "output_type": "execute_result"
    }
   ],
   "source": [
    "S = [['him', 'sell'], [90, 28, 43]]\n",
    "\n",
    "S[0][1][1]"
   ]
  },
  {
   "cell_type": "markdown",
   "id": "4bf56686-f633-49e4-b6a6-1789a0706f6f",
   "metadata": {},
   "source": [
    "#### 10. If you have the following list\n",
    "\n",
    "lst = [[35, 'Portugal', 94], [33, 'Argentina', 93], [30 , 'Brazil', 92]]\n",
    "\n",
    "col = [‘Age’,’Nationality’,’Overall’]\n",
    "\n",
    "How do you create a pandas DataFrame using this list, to look like the table below?\n",
    "\n"
   ]
  },
  {
   "cell_type": "code",
   "execution_count": 13,
   "id": "3678fde8-51fd-472f-b64b-62a223ace446",
   "metadata": {},
   "outputs": [
    {
     "data": {
      "text/html": [
       "<div>\n",
       "<style scoped>\n",
       "    .dataframe tbody tr th:only-of-type {\n",
       "        vertical-align: middle;\n",
       "    }\n",
       "\n",
       "    .dataframe tbody tr th {\n",
       "        vertical-align: top;\n",
       "    }\n",
       "\n",
       "    .dataframe thead th {\n",
       "        text-align: right;\n",
       "    }\n",
       "</style>\n",
       "<table border=\"1\" class=\"dataframe\">\n",
       "  <thead>\n",
       "    <tr style=\"text-align: right;\">\n",
       "      <th></th>\n",
       "      <th>Age</th>\n",
       "      <th>Nationality</th>\n",
       "      <th>Overall</th>\n",
       "    </tr>\n",
       "  </thead>\n",
       "  <tbody>\n",
       "    <tr>\n",
       "      <th>1</th>\n",
       "      <td>35</td>\n",
       "      <td>Portugal</td>\n",
       "      <td>94</td>\n",
       "    </tr>\n",
       "    <tr>\n",
       "      <th>2</th>\n",
       "      <td>33</td>\n",
       "      <td>Argentina</td>\n",
       "      <td>93</td>\n",
       "    </tr>\n",
       "    <tr>\n",
       "      <th>3</th>\n",
       "      <td>30</td>\n",
       "      <td>Brazil</td>\n",
       "      <td>92</td>\n",
       "    </tr>\n",
       "  </tbody>\n",
       "</table>\n",
       "</div>"
      ],
      "text/plain": [
       "   Age Nationality  Overall\n",
       "1   35    Portugal       94\n",
       "2   33   Argentina       93\n",
       "3   30      Brazil       92"
      ]
     },
     "execution_count": 13,
     "metadata": {},
     "output_type": "execute_result"
    }
   ],
   "source": [
    "lst = [[35, 'Portugal', 94], [33, 'Argentina', 93], [30 , 'Brazil', 92]]\n",
    "\n",
    "col = ['Age','Nationality','Overall']\n",
    "\n",
    "pd.DataFrame(lst, columns=col, index=[i for i in range(1, 4)])"
   ]
  },
  {
   "cell_type": "markdown",
   "id": "0b1bf581-9f42-439d-bc3b-328fe532b207",
   "metadata": {},
   "source": [
    "#### 11. Select columns ‘Y2017’ and ‘Area’, Perform a groupby operation on ‘Area’.  Which of these Areas had the 7th lowest sum in 2017?"
   ]
  },
  {
   "cell_type": "code",
   "execution_count": 14,
   "id": "2c726661-efcb-4347-a397-9afd9af5119d",
   "metadata": {},
   "outputs": [
    {
     "name": "stdout",
     "output_type": "stream",
     "text": [
      "The Area with the 7th lowest sum in 2017 is: Guinea-Bissau\n"
     ]
    }
   ],
   "source": [
    "grouped = data[['Y2017', 'Area']].groupby('Area').sum()\n",
    "\n",
    "sorted_grouped = grouped.sort_values(by='Y2017').reset_index()\n",
    "\n",
    "seventh_lowest_area = sorted_grouped.iloc[6]['Area']\n",
    "\n",
    "print(f\"The Area with the 7th lowest sum in 2017 is: {seventh_lowest_area}\")"
   ]
  },
  {
   "cell_type": "markdown",
   "id": "3f811e54-9aa1-4cb7-80a1-511efe9f998e",
   "metadata": {},
   "source": [
    "#### 12. What is the mean and standard deviation across the whole dataset for the year 2017 to 2 decimal places?"
   ]
  },
  {
   "cell_type": "code",
   "execution_count": 15,
   "id": "6fe7c9b2-5b54-42dc-888d-8630d655881f",
   "metadata": {},
   "outputs": [
    {
     "name": "stdout",
     "output_type": "stream",
     "text": [
      "The mean for the year 2017 is: 140.9177648602722\n",
      "The standard deviation for the year 2017 is: 1671.8623590567995\n"
     ]
    }
   ],
   "source": [
    "mean_2017 = data['Y2017'].mean()\n",
    "std_dev_2017 = data['Y2017'].std()\n",
    "print(f\"The mean for the year 2017 is: {mean_2017}\")\n",
    "print(f\"The standard deviation for the year 2017 is: {std_dev_2017}\")"
   ]
  },
  {
   "cell_type": "markdown",
   "id": "3eeac0c0-cd4f-44cc-9164-355c7630b306",
   "metadata": {},
   "source": [
    "#### 13. Answer the following questions based on the African food production dataset provided by the FAO website already provided\n",
    "\n",
    "- What is the total sum of Wine produced in 2015 and 2018 respectively?\n",
    "\n",
    "##### Hint:\n",
    "\n",
    "- Perform a groupby sum aggregation on ‘Item’"
   ]
  },
  {
   "cell_type": "code",
   "execution_count": 16,
   "id": "f206c0dc-7354-442d-88e3-52cb9668e3a1",
   "metadata": {},
   "outputs": [
    {
     "name": "stdout",
     "output_type": "stream",
     "text": [
      "Total Wine produced in 2015: 4251.81\n",
      "Total Wine produced in 2018: 4039.32\n"
     ]
    }
   ],
   "source": [
    "grouped = data[['Item', 'Y2015', 'Y2018']].groupby('Item')[['Y2015', 'Y2018']].sum()\n",
    "\n",
    "wine_2015 = grouped.loc['Wine', 'Y2015']\n",
    "wine_2018 = grouped.loc['Wine', 'Y2018']\n",
    "\n",
    "print(f\"Total Wine produced in 2015: {wine_2015}\")\n",
    "print(f\"Total Wine produced in 2018: {wine_2018}\")"
   ]
  },
  {
   "cell_type": "markdown",
   "id": "816f84f2-d1f4-435a-9eb0-1b4ac1f438a5",
   "metadata": {},
   "source": [
    "#### 14. Which year had the least correlation with ‘Element Code’?"
   ]
  },
  {
   "cell_type": "code",
   "execution_count": 17,
   "id": "79f46f76-454d-4148-94d5-4815321f788b",
   "metadata": {},
   "outputs": [
    {
     "data": {
      "text/html": [
       "<div>\n",
       "<style scoped>\n",
       "    .dataframe tbody tr th:only-of-type {\n",
       "        vertical-align: middle;\n",
       "    }\n",
       "\n",
       "    .dataframe tbody tr th {\n",
       "        vertical-align: top;\n",
       "    }\n",
       "\n",
       "    .dataframe thead th {\n",
       "        text-align: right;\n",
       "    }\n",
       "</style>\n",
       "<table border=\"1\" class=\"dataframe\">\n",
       "  <thead>\n",
       "    <tr style=\"text-align: right;\">\n",
       "      <th></th>\n",
       "      <th>Element Code</th>\n",
       "      <th>Y2014</th>\n",
       "      <th>Y2015</th>\n",
       "      <th>Y2016</th>\n",
       "      <th>Y2017</th>\n",
       "      <th>Y2018</th>\n",
       "    </tr>\n",
       "  </thead>\n",
       "  <tbody>\n",
       "    <tr>\n",
       "      <th>Element Code</th>\n",
       "      <td>1.000000</td>\n",
       "      <td>0.024457</td>\n",
       "      <td>0.023889</td>\n",
       "      <td>0.023444</td>\n",
       "      <td>0.024254</td>\n",
       "      <td>0.024279</td>\n",
       "    </tr>\n",
       "    <tr>\n",
       "      <th>Y2014</th>\n",
       "      <td>0.024457</td>\n",
       "      <td>1.000000</td>\n",
       "      <td>0.994647</td>\n",
       "      <td>0.996081</td>\n",
       "      <td>0.995230</td>\n",
       "      <td>0.994872</td>\n",
       "    </tr>\n",
       "    <tr>\n",
       "      <th>Y2015</th>\n",
       "      <td>0.023889</td>\n",
       "      <td>0.994647</td>\n",
       "      <td>1.000000</td>\n",
       "      <td>0.995739</td>\n",
       "      <td>0.988048</td>\n",
       "      <td>0.988208</td>\n",
       "    </tr>\n",
       "    <tr>\n",
       "      <th>Y2016</th>\n",
       "      <td>0.023444</td>\n",
       "      <td>0.996081</td>\n",
       "      <td>0.995739</td>\n",
       "      <td>1.000000</td>\n",
       "      <td>0.992785</td>\n",
       "      <td>0.992757</td>\n",
       "    </tr>\n",
       "    <tr>\n",
       "      <th>Y2017</th>\n",
       "      <td>0.024254</td>\n",
       "      <td>0.995230</td>\n",
       "      <td>0.988048</td>\n",
       "      <td>0.992785</td>\n",
       "      <td>1.000000</td>\n",
       "      <td>0.998103</td>\n",
       "    </tr>\n",
       "    <tr>\n",
       "      <th>Y2018</th>\n",
       "      <td>0.024279</td>\n",
       "      <td>0.994872</td>\n",
       "      <td>0.988208</td>\n",
       "      <td>0.992757</td>\n",
       "      <td>0.998103</td>\n",
       "      <td>1.000000</td>\n",
       "    </tr>\n",
       "  </tbody>\n",
       "</table>\n",
       "</div>"
      ],
      "text/plain": [
       "              Element Code     Y2014     Y2015     Y2016     Y2017     Y2018\n",
       "Element Code      1.000000  0.024457  0.023889  0.023444  0.024254  0.024279\n",
       "Y2014             0.024457  1.000000  0.994647  0.996081  0.995230  0.994872\n",
       "Y2015             0.023889  0.994647  1.000000  0.995739  0.988048  0.988208\n",
       "Y2016             0.023444  0.996081  0.995739  1.000000  0.992785  0.992757\n",
       "Y2017             0.024254  0.995230  0.988048  0.992785  1.000000  0.998103\n",
       "Y2018             0.024279  0.994872  0.988208  0.992757  0.998103  1.000000"
      ]
     },
     "execution_count": 17,
     "metadata": {},
     "output_type": "execute_result"
    }
   ],
   "source": [
    "data[['Element Code', 'Y2014', 'Y2015', 'Y2016', 'Y2017', 'Y2018']].corr()"
   ]
  },
  {
   "cell_type": "markdown",
   "id": "9240469d-9b46-4445-ab1d-9b9a72e14177",
   "metadata": {},
   "source": [
    "#### 15. Which of the following dataframe methods can be used to access elements across rows and columns?\n",
    "##### Answer : df.iloc[ : ] "
   ]
  },
  {
   "cell_type": "markdown",
   "id": "34974109-dc6a-42c4-aa64-8ebb3b792e65",
   "metadata": {},
   "source": [
    "#### 16. Which of the following is a python inbuilt module?\n",
    "##### Answer : Math"
   ]
  },
  {
   "cell_type": "markdown",
   "id": "54121efb-0b7f-484a-88fc-81d59acc1c43",
   "metadata": {},
   "source": [
    "#### 17. Consider the following list of tuples:\n",
    "\n",
    "y = [(2, 4), (7, 8), (1, 5, 9)]\n",
    "\n",
    "How would you assign element 8 from the list to a variable x?"
   ]
  },
  {
   "cell_type": "markdown",
   "id": "bd60871c-c565-493e-9e2b-66692654dfc3",
   "metadata": {},
   "source": [
    "y = [(2, 4), (7, 8), (1, 5, 9)]\n",
    "\n",
    "x = y[1][1]\n",
    "\n",
    "print(x)"
   ]
  },
  {
   "cell_type": "markdown",
   "id": "4621c3d6-a103-43db-b19b-9de2bfc65955",
   "metadata": {},
   "source": [
    "#### 18. Which of these python data structures is unorderly?\n",
    "##### Answer : Set"
   ]
  },
  {
   "cell_type": "markdown",
   "id": "f1d66e98-f0f6-4599-b677-99e265389acd",
   "metadata": {},
   "source": [
    "#### 19. Given the following numpy array \n",
    "\n",
    "array  = ([[94, 89, 63],\n",
    "\n",
    "             [93, 92, 48],\n",
    "\n",
    "             [92, 94, 56]])\n",
    "\n",
    "How would you select  the elements in bold and italics from the array?"
   ]
  },
  {
   "cell_type": "code",
   "execution_count": 18,
   "id": "caf16881-7b30-499f-b553-a80c944d3561",
   "metadata": {},
   "outputs": [
    {
     "name": "stdout",
     "output_type": "stream",
     "text": [
      "[[89 63]\n",
      " [92 48]]\n"
     ]
    }
   ],
   "source": [
    "array = np.array([[94, 89, 63],\n",
    "                  [93, 92, 48],\n",
    "                  [92, 94, 56]])\n",
    "\n",
    "selected_elements = array[:2, 1:]\n",
    "\n",
    "print(selected_elements)"
   ]
  },
  {
   "cell_type": "markdown",
   "id": "315d20e2-d908-462a-a89e-ad9581b4721b",
   "metadata": {},
   "source": [
    "#### 20. A pandas Dataframe with dimensions (100,3) has how many features and observations?\n",
    "##### Answer : 3 features, 100 observations"
   ]
  }
 ],
 "metadata": {
  "kernelspec": {
   "display_name": "Python 3 (ipykernel)",
   "language": "python",
   "name": "python3"
  },
  "language_info": {
   "codemirror_mode": {
    "name": "ipython",
    "version": 3
   },
   "file_extension": ".py",
   "mimetype": "text/x-python",
   "name": "python",
   "nbconvert_exporter": "python",
   "pygments_lexer": "ipython3",
   "version": "3.10.12"
  }
 },
 "nbformat": 4,
 "nbformat_minor": 5
}
